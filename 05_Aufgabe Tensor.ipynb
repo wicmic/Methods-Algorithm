{
 "cells": [
  {
   "cell_type": "code",
   "execution_count": 5,
   "metadata": {
    "collapsed": true
   },
   "outputs": [],
   "source": [
    "import numpy as np\n",
    "import tensorly as tl\n",
    "import matplotlib.pyplot as plt"
   ]
  },
  {
   "cell_type": "code",
   "execution_count": 6,
   "outputs": [],
   "source": [
    "A = [[1, 2, 3], [4, 5, 6]] #Zeile für Zeile\n",
    "B = [[7, 8, 9], [10, 11, 12]]"
   ],
   "metadata": {
    "collapsed": false
   }
  },
  {
   "cell_type": "code",
   "execution_count": 7,
   "outputs": [
    {
     "data": {
      "text/plain": "array([[1, 2, 3],\n       [4, 5, 6]])"
     },
     "execution_count": 7,
     "metadata": {},
     "output_type": "execute_result"
    }
   ],
   "source": [
    "A = np.arange(6).reshape((2,3))+1 #arrange(Anz. Werte in A), reshape(Zeilen, Spalten), +'1.Input'\n",
    "A"
   ],
   "metadata": {
    "collapsed": false
   }
  },
  {
   "cell_type": "code",
   "execution_count": 8,
   "outputs": [
    {
     "data": {
      "text/plain": "array([[ 7,  8,  9],\n       [10, 11, 12]])"
     },
     "execution_count": 8,
     "metadata": {},
     "output_type": "execute_result"
    }
   ],
   "source": [
    "B = np.arange(6).reshape((2,3))+7 #arrange(Anz. Werte in B), reshape(Zeilen, Spalten), +'1.Input'\n",
    "B"
   ],
   "metadata": {
    "collapsed": false
   }
  },
  {
   "cell_type": "code",
   "execution_count": 9,
   "outputs": [
    {
     "data": {
      "text/plain": "array([[ 7,  8,  9, 14, 16, 18, 21, 24, 27],\n       [10, 11, 12, 20, 22, 24, 30, 33, 36],\n       [28, 32, 36, 35, 40, 45, 42, 48, 54],\n       [40, 44, 48, 50, 55, 60, 60, 66, 72]])"
     },
     "execution_count": 9,
     "metadata": {},
     "output_type": "execute_result"
    }
   ],
   "source": [
    "tl.tenalg.kronecker((A,B))"
   ],
   "metadata": {
    "collapsed": false
   }
  },
  {
   "cell_type": "code",
   "execution_count": 10,
   "outputs": [
    {
     "data": {
      "text/plain": "array([[ 7, 16, 27],\n       [10, 22, 36],\n       [28, 40, 54],\n       [40, 55, 72]])"
     },
     "execution_count": 10,
     "metadata": {},
     "output_type": "execute_result"
    }
   ],
   "source": [
    "tl.tenalg.khatri_rao((A,B))"
   ],
   "metadata": {
    "collapsed": false
   }
  },
  {
   "cell_type": "code",
   "execution_count": 11,
   "outputs": [
    {
     "data": {
      "text/plain": "array([[ 7, 16, 27],\n       [40, 55, 72]])"
     },
     "execution_count": 11,
     "metadata": {},
     "output_type": "execute_result"
    }
   ],
   "source": [
    "A*B"
   ],
   "metadata": {
    "collapsed": false
   }
  },
  {
   "cell_type": "code",
   "execution_count": 12,
   "outputs": [
    {
     "data": {
      "text/plain": "array([[[ 1,  2,  3,  4,  5],\n        [ 6,  7,  8,  9, 10]],\n\n       [[11, 12, 13, 14, 15],\n        [16, 17, 18, 19, 20]],\n\n       [[21, 22, 23, 24, 25],\n        [26, 27, 28, 29, 30]],\n\n       [[31, 32, 33, 34, 35],\n        [36, 37, 38, 39, 40]],\n\n       [[41, 42, 43, 44, 45],\n        [46, 47, 48, 49, 50]]])"
     },
     "execution_count": 12,
     "metadata": {},
     "output_type": "execute_result"
    }
   ],
   "source": [
    "#Tensoren erstellen von Zahl 1-50, 5,2,5 Grösse\n",
    "X = np.arange(50).reshape((5,2,5))+1 #+1 da bei 0 anfängt zu Zählen\n",
    "X"
   ],
   "metadata": {
    "collapsed": false
   }
  },
  {
   "cell_type": "code",
   "execution_count": 13,
   "outputs": [
    {
     "data": {
      "text/plain": "array([[ 1,  2,  3,  4,  5,  6,  7,  8,  9, 10],\n       [11, 12, 13, 14, 15, 16, 17, 18, 19, 20],\n       [21, 22, 23, 24, 25, 26, 27, 28, 29, 30],\n       [31, 32, 33, 34, 35, 36, 37, 38, 39, 40],\n       [41, 42, 43, 44, 45, 46, 47, 48, 49, 50]])"
     },
     "execution_count": 13,
     "metadata": {},
     "output_type": "execute_result"
    }
   ],
   "source": [
    "tl.unfold(X,0) #0.Mode Tensor"
   ],
   "metadata": {
    "collapsed": false
   }
  },
  {
   "cell_type": "code",
   "execution_count": 14,
   "outputs": [
    {
     "data": {
      "text/plain": "array([[ 1,  2,  3,  4,  5, 11, 12, 13, 14, 15, 21, 22, 23, 24, 25, 31,\n        32, 33, 34, 35, 41, 42, 43, 44, 45],\n       [ 6,  7,  8,  9, 10, 16, 17, 18, 19, 20, 26, 27, 28, 29, 30, 36,\n        37, 38, 39, 40, 46, 47, 48, 49, 50]])"
     },
     "execution_count": 14,
     "metadata": {},
     "output_type": "execute_result"
    }
   ],
   "source": [
    "tl.unfold(X,1)  #1.Mode Tensor"
   ],
   "metadata": {
    "collapsed": false
   }
  },
  {
   "cell_type": "code",
   "execution_count": 15,
   "outputs": [
    {
     "data": {
      "text/plain": "array([[ 1,  6, 11, 16, 21, 26, 31, 36, 41, 46],\n       [ 2,  7, 12, 17, 22, 27, 32, 37, 42, 47],\n       [ 3,  8, 13, 18, 23, 28, 33, 38, 43, 48],\n       [ 4,  9, 14, 19, 24, 29, 34, 39, 44, 49],\n       [ 5, 10, 15, 20, 25, 30, 35, 40, 45, 50]])"
     },
     "execution_count": 15,
     "metadata": {},
     "output_type": "execute_result"
    }
   ],
   "source": [
    "tl.unfold(X,2)  #2.Mode Tensor"
   ],
   "metadata": {
    "collapsed": false
   }
  },
  {
   "cell_type": "code",
   "execution_count": 16,
   "outputs": [
    {
     "data": {
      "text/plain": "<Figure size 640x480 with 1 Axes>",
      "image/png": "[encoded data removed]"
     },
     "metadata": {},
     "output_type": "display_data"
    }
   ],
   "source": [
    "#3-Mode Tensor mit Zufallszahlen, Grösse 30x30x30\n",
    "X = np.random.rand(30,30,30)\n",
    "\n",
    "from tensorly.decomposition import tucker\n",
    "err = [] #für Grafik\n",
    "for r in range(1,51):\n",
    "  G, fac = tucker(X, (r, r, r))\n",
    "  X_rec = tl.tucker_to_tensor((G, fac))\n",
    "  err.append(tl.norm(X - X_rec)) #für Grafik\n",
    "plt.plot(err, 'r-')\n",
    "plt.show()"
   ],
   "metadata": {
    "collapsed": false
   }
  },
  {
   "cell_type": "code",
   "execution_count": 16,
   "outputs": [],
   "source": [],
   "metadata": {
    "collapsed": false
   }
  }
 ],
 "metadata": {
  "kernelspec": {
   "display_name": "Python 3",
   "language": "python",
   "name": "python3"
  },
  "language_info": {
   "codemirror_mode": {
    "name": "ipython",
    "version": 2
   },
   "file_extension": ".py",
   "mimetype": "text/x-python",
   "name": "python",
   "nbconvert_exporter": "python",
   "pygments_lexer": "ipython2",
   "version": "2.7.6"
  }
 },
 "nbformat": 4,
 "nbformat_minor": 0
}
