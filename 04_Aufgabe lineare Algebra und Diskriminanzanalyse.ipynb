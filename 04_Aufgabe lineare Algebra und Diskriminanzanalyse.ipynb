{
 "cells": [
  {
   "cell_type": "code",
   "execution_count": 16,
   "outputs": [],
   "source": [
    "import numpy as np\n",
    "import tensorly as tl"
   ],
   "metadata": {
    "collapsed": false
   }
  },
  {
   "cell_type": "code",
   "execution_count": 17,
   "outputs": [],
   "source": [
    "u = [3, 4, 0, 1]\n",
    "v = [1, 0, -1, 2]\n",
    "w = [4, -3, 4, 0]"
   ],
   "metadata": {
    "collapsed": false
   }
  },
  {
   "cell_type": "code",
   "execution_count": 18,
   "outputs": [
    {
     "data": {
      "text/plain": "5"
     },
     "execution_count": 18,
     "metadata": {},
     "output_type": "execute_result"
    }
   ],
   "source": [
    "#SKalarprodukt\n",
    "np.dot(u,v)"
   ],
   "metadata": {
    "collapsed": false
   }
  },
  {
   "cell_type": "code",
   "execution_count": 19,
   "outputs": [
    {
     "data": {
      "text/plain": "0"
     },
     "execution_count": 19,
     "metadata": {},
     "output_type": "execute_result"
    }
   ],
   "source": [
    "np.dot(u,w)"
   ],
   "metadata": {
    "collapsed": false
   }
  },
  {
   "cell_type": "code",
   "execution_count": 20,
   "outputs": [
    {
     "data": {
      "text/plain": "0"
     },
     "execution_count": 20,
     "metadata": {},
     "output_type": "execute_result"
    }
   ],
   "source": [
    "np.dot(v,w)"
   ],
   "metadata": {
    "collapsed": false
   }
  },
  {
   "cell_type": "code",
   "execution_count": 21,
   "outputs": [
    {
     "data": {
      "text/plain": "array([[3, 2],\n       [0, 1],\n       [4, 3],\n       [1, 2]])"
     },
     "execution_count": 21,
     "metadata": {},
     "output_type": "execute_result"
    }
   ],
   "source": [
    "A = [[3, 0, 4, 1], [2, 1, 3, 2]] #Zeile für Zeile\n",
    "np.transpose(A)"
   ],
   "metadata": {
    "collapsed": false
   }
  },
  {
   "cell_type": "code",
   "execution_count": 22,
   "outputs": [
    {
     "data": {
      "text/plain": "array([ 7,  2, 10,  5])"
     },
     "execution_count": 22,
     "metadata": {},
     "output_type": "execute_result"
    }
   ],
   "source": [
    "u = [2, 0, 4, 1]\n",
    "v = [1, 2]\n",
    "np.dot(A,u)\n",
    "np.dot(np.transpose(A),v)"
   ],
   "metadata": {
    "collapsed": false
   }
  },
  {
   "cell_type": "code",
   "execution_count": 23,
   "outputs": [
    {
     "data": {
      "text/plain": "array([[ 6,  2,  6,  4],\n       [12,  4, 12,  8],\n       [ 3,  1,  3,  2]])"
     },
     "execution_count": 23,
     "metadata": {},
     "output_type": "execute_result"
    }
   ],
   "source": [
    "#dyadisches Produkt\n",
    "u = [2, 4, 1]\n",
    "v = [3, 1, 3, 2]\n",
    "w = [5, 2]\n",
    "np.outer(u,v) #Transpose nicht notwendig bei Produkt"
   ],
   "metadata": {
    "collapsed": false
   }
  },
  {
   "cell_type": "code",
   "execution_count": 24,
   "outputs": [
    {
     "data": {
      "text/plain": "array([[ 6,  2,  6,  4],\n       [12,  4, 12,  8],\n       [ 3,  1,  3,  2]])"
     },
     "execution_count": 24,
     "metadata": {},
     "output_type": "execute_result"
    }
   ],
   "source": [
    "#dyadisches Produkt\n",
    "np.einsum(\"i,j->ij\",u,v)"
   ],
   "metadata": {
    "collapsed": false
   }
  },
  {
   "cell_type": "code",
   "execution_count": 25,
   "outputs": [
    {
     "data": {
      "text/plain": "array([[[30, 10, 30, 20],\n        [60, 20, 60, 40],\n        [15,  5, 15, 10]],\n\n       [[12,  4, 12,  8],\n        [24,  8, 24, 16],\n        [ 6,  2,  6,  4]]])"
     },
     "execution_count": 25,
     "metadata": {},
     "output_type": "execute_result"
    }
   ],
   "source": [
    "np.einsum(\"i,j,k->ijk\",w,u,v)\n"
   ],
   "metadata": {
    "collapsed": false
   }
  },
  {
   "cell_type": "code",
   "execution_count": 1,
   "outputs": [],
   "source": [
    "from sklearn import datasets\n",
    "cancer = datasets.load_breast_cancer()"
   ],
   "metadata": {
    "collapsed": false
   }
  },
  {
   "cell_type": "code",
   "execution_count": 2,
   "outputs": [],
   "source": [
    "from sklearn.model_selection import train_test_split as tts\n",
    "from sklearn.discriminant_analysis import LinearDiscriminantAnalysis as LDA\n",
    "\n",
    "x, x_test, y_true, y_test = tts(cancer.data, cancer.target, test_size=0.1,  random_state=42)\n",
    "\n",
    "model = LDA(n_components=1)\n",
    "model.fit(x, y_true)\n",
    "x_proj = model.transform(x)\n",
    "x_test_proj = model.transform(x_test)"
   ],
   "metadata": {
    "collapsed": false
   }
  },
  {
   "cell_type": "code",
   "execution_count": 3,
   "outputs": [],
   "source": [
    "from sklearn.neighbors import KNeighborsClassifier as knn\n",
    "from sklearn.metrics import accuracy_score\n",
    "hits = [0] #für Grafik\n",
    "for k in range(1,11): #Anzahl k anpassen, wird für jedes k in Range durchgeführt\n",
    "  model = knn(n_neighbors=k)\n",
    "  model.fit(x_proj, y_true)\n",
    "  y_pred = model.predict(x_test_proj) #Vorhersage bestimmen\n",
    "  hits.append(accuracy_score(y_test, y_pred)) #für Grafik"
   ],
   "metadata": {
    "collapsed": false
   }
  },
  {
   "cell_type": "code",
   "execution_count": 53,
   "outputs": [
    {
     "data": {
      "text/plain": "<Figure size 640x480 with 1 Axes>",
      "image/png": "[encoded data removed]"
     },
     "metadata": {},
     "output_type": "display_data"
    }
   ],
   "source": [
    "import numpy as np\n",
    "import matplotlib.pyplot as plt\n",
    "\n",
    "x_grid = np.linspace(0, 10, 11)\n",
    "plt.step(x_grid, hits, where='mid', color='red', linewidth=2)\n",
    "plt.show()"
   ],
   "metadata": {
    "collapsed": false
   }
  },
  {
   "cell_type": "code",
   "execution_count": 56,
   "outputs": [
    {
     "name": "stdout",
     "output_type": "stream",
     "text": [
      "benign => malignant\n",
      "benign => malignant\n",
      "malignant => benign\n",
      "benign => malignant\n",
      "benign => malignant\n",
      "benign => malignant\n"
     ]
    }
   ],
   "source": [
    "#falsche Klassifikation\n",
    "for i in range(len(y_test)):\n",
    "  if y_test[i] != y_pred[i]:\n",
    "    print(cancer.target_names[y_test[i]], '=>',\n",
    "      cancer.target_names[y_pred[i]])"
   ],
   "metadata": {
    "collapsed": false
   }
  },
  {
   "cell_type": "code",
   "execution_count": null,
   "outputs": [],
   "source": [],
   "metadata": {
    "collapsed": false
   }
  }
 ],
 "metadata": {
  "kernelspec": {
   "display_name": "Python 3",
   "language": "python",
   "name": "python3"
  },
  "language_info": {
   "codemirror_mode": {
    "name": "ipython",
    "version": 2
   },
   "file_extension": ".py",
   "mimetype": "text/x-python",
   "name": "python",
   "nbconvert_exporter": "python",
   "pygments_lexer": "ipython2",
   "version": "2.7.6"
  }
 },
 "nbformat": 4,
 "nbformat_minor": 0
}
